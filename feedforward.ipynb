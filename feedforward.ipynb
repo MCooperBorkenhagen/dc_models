{
 "cells": [
  {
   "cell_type": "code",
   "execution_count": 9,
   "metadata": {},
   "outputs": [],
   "source": [
    "\n",
    "from keras.layers import Input, Dense\n",
    "from keras import Model, metrics\n",
    "\n",
    "import numpy as np\n",
    "from utilities import load"
   ]
  },
  {
   "cell_type": "code",
   "execution_count": 6,
   "metadata": {},
   "outputs": [
    {
     "name": "stdout",
     "output_type": "stream",
     "text": [
      "data/phon.csv\n",
      "data/orth.csv\n"
     ]
    }
   ],
   "source": [
    "phon = load('data/phon.csv', simplify=True)\n",
    "orth = load('data/orth.csv', simplify=True)"
   ]
  },
  {
   "cell_type": "code",
   "execution_count": 7,
   "metadata": {},
   "outputs": [
    {
     "data": {
      "text/plain": [
       "(2881, 66)"
      ]
     },
     "execution_count": 7,
     "metadata": {},
     "output_type": "execute_result"
    }
   ],
   "source": []
  },
  {
   "cell_type": "code",
   "execution_count": 18,
   "metadata": {},
   "outputs": [],
   "source": [
    "\n",
    "\n",
    "input = Input((phon.shape[1],))\n",
    "hidden = Dense(50, activation='sigmoid')(input)\n",
    "output = Dense(orth.shape[1])(hidden)\n",
    "learner = Model(input, output)\n",
    "learner.compile(optimizer='adam', loss='binary_crossentropy', metrics=metrics.BinaryAccuracy(name='binary_accuracy', dtype=None, threshold=.5))\n"
   ]
  },
  {
   "cell_type": "code",
   "execution_count": 11,
   "metadata": {},
   "outputs": [],
   "source": []
  },
  {
   "cell_type": "code",
   "execution_count": 19,
   "metadata": {},
   "outputs": [
    {
     "data": {
      "text/plain": [
       "<tensorflow.python.keras.callbacks.History at 0x7f875c2dbfd0>"
      ]
     },
     "execution_count": 19,
     "metadata": {},
     "output_type": "execute_result"
    }
   ],
   "source": [
    "learner.fit(phon, orth, epochs=100, batch_size=phon.shape[0], shuffle=True, validation_data=(phon,orth), verbose=False)"
   ]
  },
  {
   "cell_type": "code",
   "execution_count": 21,
   "metadata": {},
   "outputs": [
    {
     "name": "stdout",
     "output_type": "stream",
     "text": [
      "91/91 [==============================] - 0s 2ms/step - loss: 0.3090 - binary_accuracy: 0.9573\n"
     ]
    },
    {
     "data": {
      "text/plain": [
       "[0.30896303057670593, 0.9573336243629456]"
      ]
     },
     "execution_count": 21,
     "metadata": {},
     "output_type": "execute_result"
    }
   ],
   "source": [
    "learner.evaluate(phon, orth)"
   ]
  },
  {
   "cell_type": "code",
   "execution_count": null,
   "metadata": {},
   "outputs": [],
   "source": []
  }
 ],
 "metadata": {
  "kernelspec": {
   "display_name": "Python 3.7.4 ('python3_env')",
   "language": "python",
   "name": "python3"
  },
  "language_info": {
   "codemirror_mode": {
    "name": "ipython",
    "version": 3
   },
   "file_extension": ".py",
   "mimetype": "text/x-python",
   "name": "python",
   "nbconvert_exporter": "python",
   "pygments_lexer": "ipython3",
   "version": "3.7.4"
  },
  "orig_nbformat": 4,
  "vscode": {
   "interpreter": {
    "hash": "7c87c89642609041192033b4f33bc42b9a0cfb7ce4d636b18abcb06a9a62660e"
   }
  }
 },
 "nbformat": 4,
 "nbformat_minor": 2
}
